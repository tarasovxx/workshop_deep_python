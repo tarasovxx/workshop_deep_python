{
 "cells": [
  {
   "cell_type": "code",
   "execution_count": 1,
   "id": "71a2ed30-c01d-4fb1-9b5f-c166775d1548",
   "metadata": {},
   "outputs": [
    {
     "name": "stdout",
     "output_type": "stream",
     "text": [
      "Abstract method implementation\n",
      "This is a concrete method\n"
     ]
    }
   ],
   "source": [
    "from abc import ABC, abstractmethod\n",
    "\n",
    "class MyAbstractClass(ABC):\n",
    "    @abstractmethod\n",
    "    def abstract_method(self):\n",
    "        pass\n",
    "\n",
    "    def concrete_method(self):\n",
    "        print(\"This is a concrete method\")\n",
    "\n",
    "# Попытка создать объект абстрактного класса вызовет ошибку\n",
    "# obj = MyAbstractClass()\n",
    "\n",
    "class MySubclass(MyAbstractClass):\n",
    "    def abstract_method(self):\n",
    "        print(\"Abstract method implementation\")\n",
    "\n",
    "obj = MySubclass()\n",
    "obj.abstract_method()   # Вызов абстрактного метода\n",
    "obj.concrete_method()   # Вызов конкретного метода\n"
   ]
  },
  {
   "cell_type": "code",
   "execution_count": 2,
   "id": "4d27c788-3e04-446a-94c8-4656d461cec0",
   "metadata": {},
   "outputs": [
    {
     "name": "stdout",
     "output_type": "stream",
     "text": [
      "[<class '__main__.D'>, <class '__main__.B'>, <class '__main__.C'>, <class '__main__.A'>, <class 'object'>]\n"
     ]
    }
   ],
   "source": [
    "class A:\n",
    "    pass\n",
    "\n",
    "class B(A):\n",
    "    pass\n",
    "\n",
    "class C(A):\n",
    "    pass\n",
    "\n",
    "class D(B, C):\n",
    "    pass\n",
    "\n",
    "mro_result = D.mro()\n",
    "print(mro_result)  \n"
   ]
  },
  {
   "cell_type": "code",
   "execution_count": null,
   "id": "66776654-9f70-45ef-a68d-8520bc091756",
   "metadata": {},
   "outputs": [],
   "source": []
  },
  {
   "cell_type": "code",
   "execution_count": null,
   "id": "0fa64fc8-7b67-4ae2-808c-3d62b310c5b3",
   "metadata": {},
   "outputs": [],
   "source": []
  },
  {
   "cell_type": "code",
   "execution_count": null,
   "id": "189d4e90-c01a-4045-8666-d1c339fbd749",
   "metadata": {},
   "outputs": [],
   "source": []
  },
  {
   "cell_type": "code",
   "execution_count": null,
   "id": "65005ce6-dcb1-4da5-9329-b121048b280d",
   "metadata": {},
   "outputs": [],
   "source": []
  },
  {
   "cell_type": "code",
   "execution_count": null,
   "id": "d066828c-0346-40c7-a5f0-067f29b67987",
   "metadata": {},
   "outputs": [],
   "source": []
  },
  {
   "cell_type": "code",
   "execution_count": null,
   "id": "058479a9-90fe-4900-8db5-e71d5d7fcab7",
   "metadata": {},
   "outputs": [],
   "source": []
  },
  {
   "cell_type": "code",
   "execution_count": null,
   "id": "8c5a1b70-8194-4ea4-9454-8141cf77d8ad",
   "metadata": {},
   "outputs": [],
   "source": [
    "from copy import deepcopy\n",
    "\n",
    "class FragileDict:\n",
    "    def __init__(self, d: dict = None):\n",
    "        if d is None:\n",
    "            d = {}\n",
    "        self._data = deepcopy(d)\n",
    "        self._lock = True\n",
    "\n",
    "    def __setitem__(self, key, value) -> None:\n",
    "        if self._lock:\n",
    "            raise RuntimeError(\"Protected state\")\n",
    "        self._temp_data[key] = value\n",
    "\n",
    "    def __getitem__(self, key) -> Any:\n",
    "        if self._lock:\n",
    "            return deepcopy(self._data[key])\n",
    "\n",
    "        if key in self._temp_data:\n",
    "            return self._temp_data[key]\n",
    "\n",
    "        if key not in self._modified:\n",
    "            self._modified[key] = deepcopy(self._data[key])\n",
    "\n",
    "    def __contains__(self, key) -> bool:\n",
    "        if self._lock:\n",
    "            return key in self._data\n",
    "        return key in self._temp_data\n",
    "\n",
    "    def __enter__(self) -> 'FragileDict':\n",
    "        self._lock = False\n",
    "        self._temp_data = {}\n",
    "        self._modified = {}\n",
    "        return self\n",
    "\n",
    "    def __exit__(self, exc_type, exc_value, traceback) -> None:\n",
    "        if exc_type:\n",
    "            print(\"Exception has been suppressed\")\n",
    "\n",
    "            for key in self._data:\n",
    "                if key in self._modified:\n",
    "                    self._data[key] = self._modified[key]\n",
    "\n",
    "            del self._temp_data\n",
    "            del self._modified\n",
    "            self._lock = True\n",
    "            return True\n",
    "\n",
    "        for key in self._data:\n",
    "            if key in self._modified:\n",
    "                item = self._modified[key]\n",
    "                self._data[key] = deepcopy(item)\n",
    "\n",
    "        for key, value in self._temp_data.items():\n",
    "            self._data[key] = deepcopy(value)\n",
    "\n",
    "        del self._temp_data\n",
    "        del self._modified\n",
    "        self._lock = True\n",
    "    \n",
    "\n"
   ]
  }
 ],
 "metadata": {
  "kernelspec": {
   "display_name": "Python 3 (ipykernel)",
   "language": "python",
   "name": "python3"
  },
  "language_info": {
   "codemirror_mode": {
    "name": "ipython",
    "version": 3
   },
   "file_extension": ".py",
   "mimetype": "text/x-python",
   "name": "python",
   "nbconvert_exporter": "python",
   "pygments_lexer": "ipython3",
   "version": "3.11.4"
  }
 },
 "nbformat": 4,
 "nbformat_minor": 5
}
