{
 "cells": [
  {
   "cell_type": "code",
   "execution_count": 1,
   "id": "initial_id",
   "metadata": {
    "collapsed": true,
    "ExecuteTime": {
     "end_time": "2023-10-31T22:27:25.334444500Z",
     "start_time": "2023-10-31T22:27:25.168322700Z"
    }
   },
   "outputs": [
    {
     "data": {
      "text/plain": "\"'\\nВ данном задании предлагается реализовать простейший MapReduce над корпусом текстов — нужно выполнить предобработку текстов и подсчет количества вхождений слов (и реализовать многопроцессно!)\\n\""
     },
     "execution_count": 1,
     "metadata": {},
     "output_type": "execute_result"
    }
   ],
   "source": [
    "''''\n",
    "В данном задании предлагается реализовать простейший MapReduce над корпусом текстов — нужно выполнить предобработку текстов и подсчет количества вхождений слов (и реализовать многопроцессно!)\n",
    "'''"
   ]
  },
  {
   "cell_type": "code",
   "execution_count": 2,
   "outputs": [],
   "source": [
    "# !pip install scikit-learn nltk"
   ],
   "metadata": {
    "collapsed": false,
    "ExecuteTime": {
     "end_time": "2023-10-31T22:27:25.340795100Z",
     "start_time": "2023-10-31T22:27:25.235898200Z"
    }
   },
   "id": "dc7a8a2f1ae565c8"
  },
  {
   "cell_type": "code",
   "execution_count": 12,
   "outputs": [
    {
     "name": "stderr",
     "output_type": "stream",
     "text": [
      "[nltk_data] Downloading package stopwords to\n",
      "[nltk_data]     C:\\Users\\almta\\AppData\\Roaming\\nltk_data...\n",
      "[nltk_data]   Package stopwords is already up-to-date!\n"
     ]
    }
   ],
   "source": [
    "import re\n",
    "\n",
    "from typing import List\n",
    "\n",
    "import nltk\n",
    "import time\n",
    "from nltk.tokenize import RegexpTokenizer\n",
    "from nltk.corpus import stopwords as nltk_stop\n",
    "nltk.download(\"stopwords\")\n",
    "\n",
    "from sklearn.datasets import fetch_20newsgroups"
   ],
   "metadata": {
    "collapsed": false,
    "ExecuteTime": {
     "end_time": "2023-10-31T22:29:54.341526900Z",
     "start_time": "2023-10-31T22:29:52.403475800Z"
    }
   },
   "id": "559d320a2951ddb4"
  },
  {
   "cell_type": "code",
   "execution_count": 13,
   "outputs": [
    {
     "data": {
      "text/plain": "['itself', 'mightn', 'this', 'so', \"won't\"]"
     },
     "execution_count": 13,
     "metadata": {},
     "output_type": "execute_result"
    }
   ],
   "source": [
    "stopwords = set(nltk_stop.words(\"english\"))\n",
    "list(stopwords)[:5]"
   ],
   "metadata": {
    "collapsed": false,
    "ExecuteTime": {
     "end_time": "2023-10-31T22:29:59.645845200Z",
     "start_time": "2023-10-31T22:29:59.577727Z"
    }
   },
   "id": "408bea8e9ceaa4cc"
  },
  {
   "cell_type": "code",
   "execution_count": 14,
   "outputs": [
    {
     "data": {
      "text/plain": "113140"
     },
     "execution_count": 14,
     "metadata": {},
     "output_type": "execute_result"
    }
   ],
   "source": [
    "from sklearn.datasets import fetch_20newsgroups\n",
    "\n",
    "news = fetch_20newsgroups().data * 10\n",
    "len(news)"
   ],
   "metadata": {
    "collapsed": false,
    "ExecuteTime": {
     "end_time": "2023-10-31T22:34:10.855875Z",
     "start_time": "2023-10-31T22:30:02.048718200Z"
    }
   },
   "id": "fe1ca3864aa62cd0"
  },
  {
   "cell_type": "code",
   "execution_count": 15,
   "outputs": [],
   "source": [
    "''''Подсчёт в одном процессе'''\n",
    "def tokenize(text: str) -> List[str]:\n",
    "    tokenizer = RegexpTokenizer(r\"\\w+\")\n",
    "    return tokenizer.tokenize(text)\n",
    "\n",
    "\n",
    "def clear_tokens(tokens: List[str]) -> List[str]:\n",
    "    return [re.sub(r\"[^a-z]\", \"\", token) for token in tokens]\n",
    "\n",
    "\n",
    "def is_token_informative(token: str) -> bool:\n",
    "    return token and token not in stopwords and len(token) > 2\n",
    "\n",
    "\n",
    "def count_words(texts: List[str]):\n",
    "    tokenizer = RegexpTokenizer(r\"\\w+\")\n",
    "    cnt = Counter()\n",
    "    for text in texts:\n",
    "        tokens = tokenize(text.lower())\n",
    "        tokens_clear = clear_tokens(tokens)\n",
    "        informative_tokens = filter(is_token_informative, tokens_clear)\n",
    "        cnt.update(informative_tokens)\n",
    "    return cnt"
   ],
   "metadata": {
    "collapsed": false,
    "ExecuteTime": {
     "end_time": "2023-10-31T22:34:10.910270200Z",
     "start_time": "2023-10-31T22:34:10.873451300Z"
    }
   },
   "id": "28ec84d2d5c7a860"
  },
  {
   "cell_type": "code",
   "execution_count": 16,
   "outputs": [
    {
     "ename": "NameError",
     "evalue": "name 'Counter' is not defined",
     "output_type": "error",
     "traceback": [
      "\u001B[1;31m---------------------------------------------------------------------------\u001B[0m",
      "\u001B[1;31mNameError\u001B[0m                                 Traceback (most recent call last)",
      "File \u001B[1;32m<timed exec>:1\u001B[0m\n",
      "Cell \u001B[1;32mIn[15], line 17\u001B[0m, in \u001B[0;36mcount_words\u001B[1;34m(texts)\u001B[0m\n\u001B[0;32m     15\u001B[0m \u001B[38;5;28;01mdef\u001B[39;00m \u001B[38;5;21mcount_words\u001B[39m(texts: List[\u001B[38;5;28mstr\u001B[39m]):\n\u001B[0;32m     16\u001B[0m     tokenizer \u001B[38;5;241m=\u001B[39m RegexpTokenizer(\u001B[38;5;124mr\u001B[39m\u001B[38;5;124m\"\u001B[39m\u001B[38;5;124m\\\u001B[39m\u001B[38;5;124mw+\u001B[39m\u001B[38;5;124m\"\u001B[39m)\n\u001B[1;32m---> 17\u001B[0m     cnt \u001B[38;5;241m=\u001B[39m \u001B[43mCounter\u001B[49m()\n\u001B[0;32m     18\u001B[0m     \u001B[38;5;28;01mfor\u001B[39;00m text \u001B[38;5;129;01min\u001B[39;00m texts:\n\u001B[0;32m     19\u001B[0m         tokens \u001B[38;5;241m=\u001B[39m tokenize(text\u001B[38;5;241m.\u001B[39mlower())\n",
      "\u001B[1;31mNameError\u001B[0m: name 'Counter' is not defined"
     ]
    }
   ],
   "source": [
    "%%time\n",
    "cnt = count_words(news)\n",
    "cnt.most_common(10)"
   ],
   "metadata": {
    "collapsed": false,
    "ExecuteTime": {
     "end_time": "2023-10-31T22:34:11.304072500Z",
     "start_time": "2023-10-31T22:34:10.883902200Z"
    }
   },
   "id": "e7cbb06a3287a3f1"
  },
  {
   "cell_type": "code",
   "execution_count": 10,
   "outputs": [],
   "source": [
    "'''\n",
    "Подсчёт с помощью MapReduce\n",
    "'''\n",
    "\n",
    "import math\n",
    "from typing import Dict, List, Sequence\n",
    "\n",
    "\n",
    "# пригодится для партицирования данных\n",
    "def chunkify(data: Sequence, n_chunks: int) -> List:\n",
    "    chunk_size = math.ceil(len(data) / n_chunks)\n",
    "    return [data[i * chunk_size: (i + 1) * chunk_size] for i in range(n_chunks)]\n",
    "\n",
    "\n",
    "def words_count_map(text: str) -> Dict[str, int]:\n",
    "    tokens = tokenize(text.lower())\n",
    "    tokens_clear = clear_tokens(tokens)\n",
    "    informative_tokens = filter(is_token_informative, tokens_clear)\n",
    "    return Counter(informative_tokens)\n",
    "\n",
    "\n",
    "def words_count_reduce(cnt1: Dict[str, int], cnt2: Dict[str, int]) -> Dict[str, int]:\n",
    "    cnt1.update(cnt2)\n",
    "    return cnt1\n",
    "\n",
    "\n",
    "def words_count_chunk_mapper(chunk: List[str]) -> Dict[str, int]:\n",
    "    mapped = map(words_count_map, chunk)\n",
    "    reduced = reduce(words_count_reduce, mapped)\n",
    "    return reduced\n"
   ],
   "metadata": {
    "collapsed": false,
    "ExecuteTime": {
     "end_time": "2023-10-31T22:29:40.796468600Z",
     "start_time": "2023-10-31T22:29:40.710586100Z"
    }
   },
   "id": "7c622772805470dc"
  },
  {
   "cell_type": "code",
   "execution_count": 17,
   "outputs": [],
   "source": [
    "from multiprocessing import Pool\n",
    "from functools import reduce\n",
    "\n",
    "n_parts = 40\n",
    "parts = chunkify(news, n_parts)"
   ],
   "metadata": {
    "collapsed": false,
    "ExecuteTime": {
     "end_time": "2023-10-31T22:34:11.314584800Z",
     "start_time": "2023-10-31T22:34:11.309502700Z"
    }
   },
   "id": "c73a375b3b2397e6"
  },
  {
   "cell_type": "code",
   "execution_count": null,
   "outputs": [],
   "source": [
    "%%time\n",
    "n_workers = 8\n",
    "\n",
    "with Pool(n_workers) as pool:\n",
    "    mapped = pool.map(words_count_chunk_mapper, parts)\n",
    "    reduced = reduce(words_count_reduce, mapped, Counter())\n",
    "\n",
    "\n",
    "reduced.most_common(10)"
   ],
   "metadata": {
    "collapsed": false,
    "is_executing": true,
    "ExecuteTime": {
     "start_time": "2023-10-31T22:34:11.318183Z"
    }
   },
   "id": "d8d9d7bf247ba443"
  },
  {
   "cell_type": "code",
   "execution_count": null,
   "outputs": [],
   "source": [],
   "metadata": {
    "collapsed": false
   },
   "id": "f1dd16bdeb95691f"
  }
 ],
 "metadata": {
  "kernelspec": {
   "display_name": "Python 3",
   "language": "python",
   "name": "python3"
  },
  "language_info": {
   "codemirror_mode": {
    "name": "ipython",
    "version": 2
   },
   "file_extension": ".py",
   "mimetype": "text/x-python",
   "name": "python",
   "nbconvert_exporter": "python",
   "pygments_lexer": "ipython2",
   "version": "2.7.6"
  }
 },
 "nbformat": 4,
 "nbformat_minor": 5
}
